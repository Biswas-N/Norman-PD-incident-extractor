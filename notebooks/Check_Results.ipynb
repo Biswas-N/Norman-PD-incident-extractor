{
 "cells": [
  {
   "cell_type": "markdown",
   "id": "e0ee5351-f16a-4918-8772-6caa0731e580",
   "metadata": {},
   "source": [
    "### Check validity of extracted incidents using the process followed in 'MVP.ipynb'"
   ]
  },
  {
   "cell_type": "code",
   "execution_count": 1,
   "id": "80015b5f-731a-43e4-91b1-292d79c87fb2",
   "metadata": {},
   "outputs": [],
   "source": [
    "import pandas as pd"
   ]
  },
  {
   "cell_type": "code",
   "execution_count": 2,
   "id": "6db404d7-9674-4da1-9619-fdf708003134",
   "metadata": {},
   "outputs": [],
   "source": [
    "data = pd.read_csv('./data.csv')\n",
    "test = pd.read_csv('./test.csv')"
   ]
  },
  {
   "cell_type": "code",
   "execution_count": 3,
   "id": "de94d694-4e4e-4983-a479-aff9b6d25ea3",
   "metadata": {},
   "outputs": [
    {
     "data": {
      "text/plain": [
       "(8878, 5)"
      ]
     },
     "metadata": {},
     "output_type": "display_data"
    },
    {
     "data": {
      "text/plain": [
       "(8878, 2)"
      ]
     },
     "metadata": {},
     "output_type": "display_data"
    }
   ],
   "source": [
    "display(data.shape)\n",
    "display(test.shape)"
   ]
  },
  {
   "cell_type": "code",
   "execution_count": 4,
   "id": "900a01f3-ea2f-4fa9-a650-2f4b8a7f5b7e",
   "metadata": {},
   "outputs": [
    {
     "data": {
      "text/html": [
       "<div>\n",
       "<style scoped>\n",
       "    .dataframe tbody tr th:only-of-type {\n",
       "        vertical-align: middle;\n",
       "    }\n",
       "\n",
       "    .dataframe tbody tr th {\n",
       "        vertical-align: top;\n",
       "    }\n",
       "\n",
       "    .dataframe thead th {\n",
       "        text-align: right;\n",
       "    }\n",
       "</style>\n",
       "<table border=\"1\" class=\"dataframe\">\n",
       "  <thead>\n",
       "    <tr style=\"text-align: right;\">\n",
       "      <th></th>\n",
       "      <th>DateTime</th>\n",
       "      <th>IncidentNumber</th>\n",
       "      <th>Location</th>\n",
       "      <th>Nature</th>\n",
       "      <th>IncidentORI</th>\n",
       "    </tr>\n",
       "  </thead>\n",
       "  <tbody>\n",
       "    <tr>\n",
       "      <th>0</th>\n",
       "      <td>2022-02-01 00:04:00</td>\n",
       "      <td>2022-00001588</td>\n",
       "      <td>15300 E LINDSEY ST</td>\n",
       "      <td>MVA With Injuries</td>\n",
       "      <td>14005</td>\n",
       "    </tr>\n",
       "    <tr>\n",
       "      <th>1</th>\n",
       "      <td>2022-02-01 00:04:00</td>\n",
       "      <td>2022-00002065</td>\n",
       "      <td>15300 E LINDSEY ST</td>\n",
       "      <td>MVA With Injuries</td>\n",
       "      <td>EMSSTAT</td>\n",
       "    </tr>\n",
       "    <tr>\n",
       "      <th>2</th>\n",
       "      <td>2022-02-01 00:04:00</td>\n",
       "      <td>2022-00005621</td>\n",
       "      <td>15300 E LINDSEY ST</td>\n",
       "      <td>MVA With Injuries</td>\n",
       "      <td>OK0140200</td>\n",
       "    </tr>\n",
       "    <tr>\n",
       "      <th>3</th>\n",
       "      <td>2022-02-01 00:06:00</td>\n",
       "      <td>2022-00002066</td>\n",
       "      <td>901 N PORTER AVE</td>\n",
       "      <td>Transfer/Interfacility</td>\n",
       "      <td>EMSSTAT</td>\n",
       "    </tr>\n",
       "    <tr>\n",
       "      <th>4</th>\n",
       "      <td>2022-02-01 00:18:00</td>\n",
       "      <td>2022-00005622</td>\n",
       "      <td>612 E ROCK CREEK RD</td>\n",
       "      <td>Suspicious</td>\n",
       "      <td>OK0140200</td>\n",
       "    </tr>\n",
       "    <tr>\n",
       "      <th>...</th>\n",
       "      <td>...</td>\n",
       "      <td>...</td>\n",
       "      <td>...</td>\n",
       "      <td>...</td>\n",
       "      <td>...</td>\n",
       "    </tr>\n",
       "    <tr>\n",
       "      <th>8873</th>\n",
       "      <td>2022-03-02 23:33:00</td>\n",
       "      <td>2022-00011589</td>\n",
       "      <td>3300 W MAIN ST</td>\n",
       "      <td>Trespassing</td>\n",
       "      <td>OK0140200</td>\n",
       "    </tr>\n",
       "    <tr>\n",
       "      <th>8874</th>\n",
       "      <td>2022-03-02 23:35:00</td>\n",
       "      <td>2022-00011590</td>\n",
       "      <td>3600 W MAIN ST</td>\n",
       "      <td>Traffic Stop</td>\n",
       "      <td>OK0140200</td>\n",
       "    </tr>\n",
       "    <tr>\n",
       "      <th>8875</th>\n",
       "      <td>2022-03-02 23:45:00</td>\n",
       "      <td>2022-00011592</td>\n",
       "      <td>1315 GARFIELD AVE</td>\n",
       "      <td>Disturbance/Domestic</td>\n",
       "      <td>OK0140200</td>\n",
       "    </tr>\n",
       "    <tr>\n",
       "      <th>8876</th>\n",
       "      <td>2022-03-02 23:46:00</td>\n",
       "      <td>2022-00011591</td>\n",
       "      <td>2583 W MAIN ST</td>\n",
       "      <td>Traffic Stop</td>\n",
       "      <td>OK0140200</td>\n",
       "    </tr>\n",
       "    <tr>\n",
       "      <th>8877</th>\n",
       "      <td>2022-03-02 23:57:00</td>\n",
       "      <td>2022-00011593</td>\n",
       "      <td>901 N PORTER AVE</td>\n",
       "      <td>Escort/Transport</td>\n",
       "      <td>OK0140200</td>\n",
       "    </tr>\n",
       "  </tbody>\n",
       "</table>\n",
       "<p>8878 rows × 5 columns</p>\n",
       "</div>"
      ],
      "text/plain": [
       "                 DateTime IncidentNumber             Location  \\\n",
       "0     2022-02-01 00:04:00  2022-00001588   15300 E LINDSEY ST   \n",
       "1     2022-02-01 00:04:00  2022-00002065   15300 E LINDSEY ST   \n",
       "2     2022-02-01 00:04:00  2022-00005621   15300 E LINDSEY ST   \n",
       "3     2022-02-01 00:06:00  2022-00002066     901 N PORTER AVE   \n",
       "4     2022-02-01 00:18:00  2022-00005622  612 E ROCK CREEK RD   \n",
       "...                   ...            ...                  ...   \n",
       "8873  2022-03-02 23:33:00  2022-00011589       3300 W MAIN ST   \n",
       "8874  2022-03-02 23:35:00  2022-00011590       3600 W MAIN ST   \n",
       "8875  2022-03-02 23:45:00  2022-00011592    1315 GARFIELD AVE   \n",
       "8876  2022-03-02 23:46:00  2022-00011591       2583 W MAIN ST   \n",
       "8877  2022-03-02 23:57:00  2022-00011593     901 N PORTER AVE   \n",
       "\n",
       "                      Nature IncidentORI  \n",
       "0          MVA With Injuries       14005  \n",
       "1          MVA With Injuries     EMSSTAT  \n",
       "2          MVA With Injuries   OK0140200  \n",
       "3     Transfer/Interfacility     EMSSTAT  \n",
       "4                 Suspicious   OK0140200  \n",
       "...                      ...         ...  \n",
       "8873             Trespassing   OK0140200  \n",
       "8874            Traffic Stop   OK0140200  \n",
       "8875    Disturbance/Domestic   OK0140200  \n",
       "8876            Traffic Stop   OK0140200  \n",
       "8877        Escort/Transport   OK0140200  \n",
       "\n",
       "[8878 rows x 5 columns]"
      ]
     },
     "execution_count": 4,
     "metadata": {},
     "output_type": "execute_result"
    }
   ],
   "source": [
    "common = test.merge(data, on=['DateTime','IncidentNumber'])\n",
    "common"
   ]
  },
  {
   "cell_type": "markdown",
   "id": "066147d9-070a-4ee0-bc59-584d4884bb65",
   "metadata": {},
   "source": [
    "#### Any differences between full data (in test.csv) and extracted incidents (in data.csv) is shown below"
   ]
  },
  {
   "cell_type": "code",
   "execution_count": 5,
   "id": "628223a6-c481-4050-a896-4984aedb4451",
   "metadata": {},
   "outputs": [
    {
     "data": {
      "text/html": [
       "<div>\n",
       "<style scoped>\n",
       "    .dataframe tbody tr th:only-of-type {\n",
       "        vertical-align: middle;\n",
       "    }\n",
       "\n",
       "    .dataframe tbody tr th {\n",
       "        vertical-align: top;\n",
       "    }\n",
       "\n",
       "    .dataframe thead th {\n",
       "        text-align: right;\n",
       "    }\n",
       "</style>\n",
       "<table border=\"1\" class=\"dataframe\">\n",
       "  <thead>\n",
       "    <tr style=\"text-align: right;\">\n",
       "      <th></th>\n",
       "      <th>DateTime</th>\n",
       "      <th>IncidentNumber</th>\n",
       "    </tr>\n",
       "  </thead>\n",
       "  <tbody>\n",
       "  </tbody>\n",
       "</table>\n",
       "</div>"
      ],
      "text/plain": [
       "Empty DataFrame\n",
       "Columns: [DateTime, IncidentNumber]\n",
       "Index: []"
      ]
     },
     "execution_count": 5,
     "metadata": {},
     "output_type": "execute_result"
    }
   ],
   "source": [
    "test[~test.DateTime.isin(common.DateTime) & ~test.IncidentNumber.isin(common.IncidentNumber)]"
   ]
  }
 ],
 "metadata": {
  "kernelspec": {
   "display_name": "Python 3 (ipykernel)",
   "language": "python",
   "name": "python3"
  },
  "language_info": {
   "codemirror_mode": {
    "name": "ipython",
    "version": 3
   },
   "file_extension": ".py",
   "mimetype": "text/x-python",
   "name": "python",
   "nbconvert_exporter": "python",
   "pygments_lexer": "ipython3",
   "version": "3.10.2"
  }
 },
 "nbformat": 4,
 "nbformat_minor": 5
}
